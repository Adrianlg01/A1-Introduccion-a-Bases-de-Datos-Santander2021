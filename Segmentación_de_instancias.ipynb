{
  "cells": [
    {
      "cell_type": "markdown",
      "metadata": {
        "id": "view-in-github",
        "colab_type": "text"
      },
      "source": [
        "<a href=\"https://colab.research.google.com/github/Adrianlg01/A1-Introduccion-a-Bases-de-Datos-Santander2021/blob/main/Segmentaci%C3%B3n_de_instancias.ipynb\" target=\"_parent\"><img src=\"https://colab.research.google.com/assets/colab-badge.svg\" alt=\"Open In Colab\"/></a>"
      ]
    },
    {
      "cell_type": "markdown",
      "metadata": {
        "id": "qK_LczZyxxly"
      },
      "source": [
        "[texto del vínculo](https://)## Segmentación de Objetos en Conjunto de Datos Personalizado\n",
        "\n",
        "**Objetivo:**\n",
        "\n",
        "\n",
        "### Introducción\n",
        "\n",
        "El modelo YOLO está diseñado para ser rápido, preciso y fácil de usar, lo que lo convierte en una excelente opción para una amplia gama de tareas de detección de objetos y segmentación de imágenes. Se puede entrenar en grandes conjuntos de datos y es capaz de ejecutarse en una variedad de plataformas de hardware.\n",
        "\n",
        "**Historia**\n",
        "\n",
        "* YOLO (You Only Look Once) es un popular modelo de segmentación de imágenes y detección de objetos desarrollado por Joseph Redmon y Ali Farhadi en la Universidad de Washington. La primera versión de YOLO se lanzó en 2015 y ganó popularidad rápidamente debido a su alta velocidad y precisión.\n",
        "\n",
        "* YOLOv2 se lanzó en 2016 y mejoró el modelo original al incorporar normalización por lotes (*batch normalization*), cuadros de anclaje (*anchor boxes*) y clusters de dimensiones.\n",
        "\n",
        "* YOLOv3 se lanzó en 2018 y mejoró aún más el rendimiento del modelo mediante el uso de una red espinal (*backbone network*) más eficiente, agregando una pirámide de características y haciendo uso de la pérdida focal (*focal loss*).\n",
        "\n",
        "* En 2020, se lanzó YOLOv4, que introdujo una serie de innovaciones, como el uso del aumento de datos Mosaico (*Mosaic data augmentation*), un nuevo cabezal de detección sin anclaje (*anchor-free detection head*) y una nueva función de pérdida.\n",
        "\n",
        "* En 2021, Ultralytics lanzó YOLOv5, que mejoró aún más el rendimiento del modelo y agregó nuevas funciones, como la compatibilidad con la segmentación panóptica (*panoptic segmentation*) y el seguimiento de objetos (*object tracking*).\n",
        "\n",
        "* 2023, YOLOv8 es la última versión del modelo desarrollado por Ultralytics. Es un modelo de última generación que se basa en el éxito de las versiones anteriores e introduce nuevas características y mejoras para aumentar aún más el rendimiento y la flexibilidad. Una característica clave de YOLOv8 es su extensibilidad pues está diseñado como un marco que admite todas las versiones anteriores de YOLO, lo que facilita cambiar entre diferentes versiones y comparar su rendimiento. Además de su extensibilidad, YOLOv8 incluye una serie de otras innovaciones que incluyen un nuevo *backbone*, un nuevo cabezal de detección sin anclaje y una nueva función de pérdida.\n",
        "\n",
        "* 2024, con YOLOv11, vemos la culminación de años de innovación ya que se brinda una detección de objetos más rápida, precisa y eficiente que nunca antes."
      ]
    },
    {
      "cell_type": "markdown",
      "metadata": {
        "id": "RE2XlHqKtkT4"
      },
      "source": [
        "<img src='https://user-images.githubusercontent.com/27466624/222874205-3873bdac-7135-4ecc-8ab2-ca18b8e13fdf.jpg'>"
      ]
    },
    {
      "cell_type": "markdown",
      "source": [
        "<img src='https://miro.medium.com/v2/resize:fit:4800/format:webp/1*L8rMuwurmyBH1ixIqcrMSQ.png'>"
      ],
      "metadata": {
        "id": "7Gp6tgiu7Y86"
      }
    },
    {
      "cell_type": "markdown",
      "metadata": {
        "id": "FyRdDYkqAKN4"
      },
      "source": [
        "#### Antes de iniciar\n",
        "\n",
        "Es importante corroborar que se cuente con acceso a una GPU. Para ello se puede utilizar el comando `nvidia-smi`."
      ]
    },
    {
      "cell_type": "code",
      "execution_count": null,
      "metadata": {
        "id": "Y8cDtxLIBHgQ"
      },
      "outputs": [],
      "source": [
        "!nvidia-smi"
      ]
    },
    {
      "cell_type": "code",
      "execution_count": null,
      "metadata": {
        "id": "CjpPg4mGKc1v"
      },
      "outputs": [],
      "source": [
        "import os\n",
        "HOME = os.getcwd()\n",
        "print(HOME)"
      ]
    },
    {
      "cell_type": "markdown",
      "metadata": {
        "id": "3C3EO_2zNChu"
      },
      "source": [
        "### Instalación\n",
        "\n",
        "YOLOv11 se puede instalar de dos maneras. Utilizando pip o alternativamente, clonando directamente el repositorio."
      ]
    },
    {
      "cell_type": "code",
      "execution_count": null,
      "metadata": {
        "id": "tdSMcABDNKW-"
      },
      "outputs": [],
      "source": [
        "# Método de instalación con pip (recomendado)\n",
        "!pip install ultralytics\n",
        "\n",
        "from IPython import display\n",
        "display.clear_output()\n",
        "\n",
        "import ultralytics\n",
        "ultralytics.checks()"
      ]
    },
    {
      "cell_type": "code",
      "execution_count": null,
      "metadata": {
        "id": "iVvaIYEEPOty"
      },
      "outputs": [],
      "source": [
        "# Método de clonación de repositorio\n",
        "\n",
        "# %cd {HOME}\n",
        "# !git clone github.com/ultralytics/ultralytics\n",
        "# %cd {HOME}/ultralytics\n",
        "# !pip install -qe ultralytics\n",
        "\n",
        "# from IPython import display\n",
        "# display.clear_output()\n",
        "\n",
        "# import ultralytics\n",
        "# ultralytics.checks()"
      ]
    },
    {
      "cell_type": "code",
      "execution_count": null,
      "metadata": {
        "id": "VOEYrlBoP9-E"
      },
      "outputs": [],
      "source": [
        "from ultralytics import YOLO\n",
        "from IPython.display import display, Image"
      ]
    },
    {
      "cell_type": "markdown",
      "metadata": {
        "id": "s5RGYA6sPgEd"
      },
      "source": [
        "### Inferencia con el modelo preentrenado en el conjunto de datos COCO (common objects in context)\n",
        "\n",
        "Enlace al repositorio oficial de Ultralytics: https://github.com/ultralytics/ultralytics"
      ]
    },
    {
      "cell_type": "markdown",
      "metadata": {
        "id": "fT1qD4toTTw0"
      },
      "source": [
        "#### CLI (interfaz de línea de comandos)"
      ]
    },
    {
      "cell_type": "markdown",
      "metadata": {
        "id": "ZaE1kLS8R4CV"
      },
      "source": [
        "`yolo mode=predict` ejecuta la inferencia de YOLOv11 en una variedad de fuentes, descarga los modelos automáticamente desde la última versión de YOLOv11 y guarda los resultados en `runs/predict`."
      ]
    },
    {
      "cell_type": "code",
      "execution_count": null,
      "metadata": {
        "id": "F_LHV1iWLYpX"
      },
      "outputs": [],
      "source": [
        "%cd {HOME}\n",
        "!yolo task=segment mode=predict model=yolo11l-seg.pt conf=0.25 source='https://pixnio.com/free-images/2017/04/10/2017-04-10-07-10-35.jpg' save=True"
      ]
    },
    {
      "cell_type": "code",
      "execution_count": null,
      "metadata": {
        "id": "JcMg0Ya0Lcu8"
      },
      "outputs": [],
      "source": [
        "%%time\n",
        "%cd {HOME}\n",
        "Image(filename='runs/segment/predict/2017-04-10-07-10-35.jpg', height=600)"
      ]
    },
    {
      "cell_type": "markdown",
      "metadata": {
        "id": "AFMBYQtMVL-B"
      },
      "source": [
        "#### SDK (kit de desarrollo de software)"
      ]
    },
    {
      "cell_type": "code",
      "execution_count": null,
      "metadata": {
        "id": "Rx9NWF-sVN6Y"
      },
      "outputs": [],
      "source": [
        "model = YOLO(f'{HOME}/yolo11s-seg.pt')\n",
        "results = model.predict(source='https://pixnio.com/free-images/2017/04/10/2017-04-10-07-10-35.jpg', conf=0.25)"
      ]
    },
    {
      "cell_type": "code",
      "execution_count": null,
      "metadata": {
        "id": "0NSi54dKBs_f"
      },
      "outputs": [],
      "source": [
        "results[0].boxes.xyxy"
      ]
    },
    {
      "cell_type": "code",
      "execution_count": null,
      "metadata": {
        "id": "6chrWtBtBvsW"
      },
      "outputs": [],
      "source": [
        "results[0].boxes.conf"
      ]
    },
    {
      "cell_type": "code",
      "execution_count": null,
      "metadata": {
        "id": "KauZrO5KBxo9"
      },
      "outputs": [],
      "source": [
        "results[0].boxes.cls"
      ]
    },
    {
      "cell_type": "code",
      "execution_count": null,
      "metadata": {
        "id": "TZeKJwdBB9on"
      },
      "outputs": [],
      "source": [
        "#results[0].masks"
      ]
    },
    {
      "cell_type": "markdown",
      "metadata": {
        "id": "FyWfhbo0A1co"
      },
      "source": [
        "## Conjuntos de datos\n",
        "\n",
        "Se recomienda ampliamente el uso de Roboflow. Se pueden encontrar múltiples conjuntos de datos para practicar en la página de Roboflow:\n",
        "\n",
        "https://universe.roboflow.com/"
      ]
    },
    {
      "cell_type": "markdown",
      "metadata": {
        "id": "fRuUmyHi9Ujo"
      },
      "source": [
        "## Preparar un conjunto de datos personalizado\n",
        "\n",
        "Crear un conjunto de datos personalizado puede ser un proceso lento. Puede tomar docenas o incluso cientos de horas recopilar imágenes, etiquetarlas y exportarlas en el formato adecuado. Afortunadamente, Roboflow hace que este proceso sea lo más sencillo y rápido posible.\n",
        "\n",
        "### Paso 1: Crear un proyecto\n",
        "\n",
        "Antes de comenzar, se debe crear una [cuenta](https://app.roboflow.com/login) con Roboflow. Una vez hecho esto, se puede crear un nuevo proyecto dentro de la [interfaz](https://app.roboflow.com/) de Roboflow. Hay que tener en cuenta que se debe elegir el tipo de proyecto adecuado. A continuación un ejemplo:\n",
        "\n",
        "<div align=\"center\">\n",
        "  <img\n",
        "    width=\"640\"\n",
        "    src=\"https://ik.imagekit.io/roboflow/preparing-custom-dataset-example/creating-project.gif?ik-sdk-version=javascript-1.4.3&updatedAt=1672929799852\"\n",
        "  >\n",
        "</div>\n",
        "\n",
        "### Paso 2: Cargar imágenes\n",
        "\n",
        "A continuación se agregan los datos al proyecto recién creado. Esto se puede realizar a través de API o a través de la [plataforma](https://docs.roboflow.com/adding-data/object-detection).\n",
        "\n",
        "Si se arrastra y suelta un directorio con un conjunto de datos en un formato compatible, la interfaz de Roboflow cargará automáticamente las imágenes y las etiquetas juntas.\n",
        "\n",
        "<div align=\"center\">\n",
        "  <img\n",
        "    width=\"640\"\n",
        "    src=\"https://ik.imagekit.io/roboflow/preparing-custom-dataset-example/uploading-images.gif?ik-sdk-version=javascript-1.4.3&updatedAt=1672929808290\"\n",
        "  >\n",
        "</div>\n",
        "\n",
        "### Paso 3: Etiquetado\n",
        "\n",
        "Si solo se cuenta con imágenes (no etiquetadas), se puede etiquetar directamente en el apartado de [anotaciones](https://docs.roboflow.com/annotate).\n",
        "\n",
        "<div align=\"center\">\n",
        "  <img\n",
        "    width=\"640\"\n",
        "    src=\"https://user-images.githubusercontent.com/26109316/210901980-04861efd-dfc0-4a01-9373-13a36b5e1df4.gif\"\n",
        "  >\n",
        "</div>\n",
        "\n",
        "### Paso 4: Generar una nueva versión del conjunto de datos\n",
        "\n",
        "Ahora que se han añadido las imágenes y sus etiquetas, se puede generar una nueva versión del conjunto de datos. Al generar una versión, se puede optar por agregar preprocesamiento y aumentación de datos. Este paso es opcional, sin embargo, puede permitir mejorar significativamente la robustez del modelo.\n",
        "\n",
        "<div align=\"center\">\n",
        "  <img\n",
        "    width=\"640\"\n",
        "    src=\"https://media.roboflow.com/preparing-custom-dataset-example/generate-new-version.gif?ik-sdk-version=javascript-1.4.3&updatedAt=1673003597834\"\n",
        "  >\n",
        "</div>\n",
        "\n",
        "### Paso 5: Exportar el conjunto de datos\n",
        "\n",
        "Una vez que se genera una versión del conjunto de datos, éste puede ser cargado directamente en Google Colab para facilitar el entrenamiento, haciendo clic en \"Exportar\" y seleccionando el formato de conjunto de datos adecuado para el modelo.\n",
        "\n",
        "<div align=\"center\">\n",
        "  <img\n",
        "    width=\"640\"\n",
        "    src=\"https://ik.imagekit.io/roboflow/preparing-custom-dataset-example/export.gif?ik-sdk-version=javascript-1.4.3&updatedAt=1672943313709\"\n",
        "  >\n",
        "</div>"
      ]
    },
    {
      "cell_type": "code",
      "execution_count": null,
      "metadata": {
        "id": "vAZFN4By2xtt"
      },
      "outputs": [],
      "source": [
        "!mkdir {HOME}/datasets\n",
        "%cd {HOME}/datasets"
      ]
    },
    {
      "cell_type": "code",
      "source": [
        "!pip install roboflow\n",
        "\n",
        "from roboflow import Roboflow\n",
        "rf = Roboflow(api_key=\"\")\n",
        "project = rf.workspace(\"\").project(\"\")\n",
        "version = project.version(1)\n",
        "dataset = version.download(\"yolov11\")"
      ],
      "metadata": {
        "id": "mea1b5YW_1Gu"
      },
      "execution_count": null,
      "outputs": []
    },
    {
      "cell_type": "markdown",
      "metadata": {
        "id": "YUjFBKKqXa-u"
      },
      "source": [
        "### Entrenamiento personalizado"
      ]
    },
    {
      "cell_type": "code",
      "source": [
        "dataset.location"
      ],
      "metadata": {
        "id": "lUAdI5Vmdqts"
      },
      "execution_count": null,
      "outputs": []
    },
    {
      "cell_type": "code",
      "source": [
        "%%time\n",
        "%cd {HOME}\n",
        "!yolo task=segment mode=train model=yolo11s-seg.pt data={dataset.location}/data.yaml epochs=25 imgsz=640 plots=True"
      ],
      "metadata": {
        "id": "4Np2HGj112aN"
      },
      "execution_count": null,
      "outputs": []
    },
    {
      "cell_type": "markdown",
      "metadata": {
        "id": "aBA8QSWRF1A1"
      },
      "source": [
        "### Evaluación"
      ]
    },
    {
      "cell_type": "code",
      "execution_count": null,
      "metadata": {
        "id": "bbe_Diinp4UI"
      },
      "outputs": [],
      "source": [
        "!ls {HOME}/runs/segment/train/"
      ]
    },
    {
      "cell_type": "code",
      "execution_count": null,
      "metadata": {
        "id": "_J35i8Ofhjxa"
      },
      "outputs": [],
      "source": [
        "%cd {HOME}\n",
        "Image(filename=f'{HOME}/runs/segment/train/confusion_matrix.png', width=600)"
      ]
    },
    {
      "cell_type": "code",
      "execution_count": null,
      "metadata": {
        "id": "A-urTWUkhRmn"
      },
      "outputs": [],
      "source": [
        "%cd {HOME}\n",
        "Image(filename=f'{HOME}/runs/segment/train/results.png', width=800)"
      ]
    },
    {
      "cell_type": "markdown",
      "metadata": {
        "id": "6ODk1VTlevxn"
      },
      "source": [
        "### Validaciones"
      ]
    },
    {
      "cell_type": "code",
      "execution_count": null,
      "metadata": {
        "id": "Yu5TUoiIrEbu"
      },
      "outputs": [],
      "source": [
        "%cd {HOME}\n",
        "Image(filename=f'{HOME}/runs/segment/train/val_batch0_pred.jpg', width=600)"
      ]
    },
    {
      "cell_type": "code",
      "execution_count": null,
      "metadata": {
        "id": "NgsNjjzzrWIu"
      },
      "outputs": [],
      "source": [
        "%cd {HOME}\n",
        "!yolo task=segment mode=val model={HOME}/runs/segment/train/weights/best.pt data={dataset.location}/data.yaml"
      ]
    },
    {
      "cell_type": "markdown",
      "metadata": {
        "id": "i4eASbcWkQBq"
      },
      "source": [
        "### Inferencia"
      ]
    },
    {
      "cell_type": "code",
      "execution_count": null,
      "metadata": {
        "id": "Wjc1ctZykYuf"
      },
      "outputs": [],
      "source": [
        "%%time\n",
        "%cd {HOME}\n",
        "!yolo task=segment mode=predict model={HOME}/runs/segment/train/weights/best.pt conf=0.25 source={dataset.location}/test/images save=True"
      ]
    },
    {
      "cell_type": "code",
      "execution_count": null,
      "metadata": {
        "id": "jbVjEtPAkz3j"
      },
      "outputs": [],
      "source": [
        "import glob\n",
        "from IPython.display import Image, display\n",
        "\n",
        "for image_path in glob.glob(f'{HOME}/runs/segment/predict2/*.jpg')[:10]:\n",
        "      display(Image(filename=image_path, height=600))\n",
        "      print(\"\\n\")"
      ]
    },
    {
      "cell_type": "markdown",
      "metadata": {
        "id": "5fThHrS4uvzm"
      },
      "source": [
        "**Referencias**\n",
        "\n",
        "* https://paperswithcode.com/task/instance-segmentation\n",
        "* https://github.com/roboflow/notebooks\n",
        "* https://universe.roboflow.com/\n",
        "* https://docs.ultralytics.com/\n",
        "* https://arxiv.org/abs/1506.02640"
      ]
    }
  ],
  "metadata": {
    "accelerator": "GPU",
    "colab": {
      "provenance": [],
      "include_colab_link": true
    },
    "gpuClass": "standard",
    "kernelspec": {
      "display_name": "Python 3",
      "name": "python3"
    },
    "language_info": {
      "name": "python"
    }
  },
  "nbformat": 4,
  "nbformat_minor": 0
}